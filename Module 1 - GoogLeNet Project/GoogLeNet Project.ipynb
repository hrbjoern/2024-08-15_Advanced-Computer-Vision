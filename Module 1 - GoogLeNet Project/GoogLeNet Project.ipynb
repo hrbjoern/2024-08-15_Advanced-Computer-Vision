{
 "cells": [
  {
   "cell_type": "markdown",
   "metadata": {},
   "source": [
    "# GoogLeNet for Cats and Dogs predictions\n",
    "\n",
    "<br>\n",
    "\n",
    "![](https://www.allaboutpetsprovo.com/wp-content/uploads/2019/09/cat-dog-exchange.jpg)\n",
    "\n",
    "<center>Image taken from <a href=\"https://www.allaboutpetsprovo.com/cats-vs-dogs.html\">here</a></center>\n",
    "<br>\n",
    "<br>\n",
    "\n",
    "In this lesson, you will build GoogLeNet neural network from **scratch** using the Keras (TensorFlow 2.+) library and train it to recognize images of cats and dogs. Let's start!\n",
    "\n",
    "### Steps:\n",
    "\n",
    "1. Import libraries and download the dataset\n",
    "2. Create an InceptionBlock\n",
    "3. Build the original GoogLeNet architecture\n",
    "4. Load data using tensorflow ImageDataGenerator\n",
    "5. Train the model\n",
    "\n",
    "### Topics covered and learning objectives\n",
    "\n",
    "- Load image data from folders using _ImageDataGenerators_\n",
    "- GoogLeNet model - Implementation and network architecture\n",
    "- Inception blocks\n",
    "- Build from scratch GoogLeNet model using Keras (TensorFlow) library\n",
    "\n",
    "### Time estimates:\n",
    "\n",
    "- Reading/Watching materials: 1h 45min\n",
    "- Exercises: 1h 10min\n",
    "  <br><br>\n",
    "- **Total**: ~3h\n"
   ]
  },
  {
   "cell_type": "code",
   "execution_count": 1,
   "metadata": {},
   "outputs": [],
   "source": [
    "from pathlib import PurePath, Path\n",
    "import os\n",
    "import numpy as np\n",
    "import tensorflow as tf\n",
    "import matplotlib.pyplot as plt\n",
    "from tests import *\n",
    "\n",
    "from tensorflow.keras.optimizers import RMSprop\n",
    "from tensorflow.keras.models import Sequential, Model\n",
    "from tensorflow.keras.layers import Conv2D, Layer, MaxPool2D, GlobalAvgPool2D, Dense, AveragePooling2D, Flatten, Dropout, Input\n",
    "\n",
    "# For loading YouTube videos\n",
    "from IPython.display import IFrame"
   ]
  },
  {
   "cell_type": "markdown",
   "metadata": {},
   "source": [
    "## Download the dataset\n",
    "\n",
    "Before starting the project, you'll need to download it from Kaggle and place it inside the **data** folder created for you. [Download here](https://www.kaggle.com/c/dogs-vs-cats)\n",
    "\n",
    "For this exercise, we will use 2,000 images, which is only a subset of the entire dataset of 25,000 images.\n",
    "\n",
    "![](images/download.png)\n",
    "\n",
    "NOTE: Download might take a while! It is about 800 MBs\n",
    "\n",
    "Once downloaded, your zip file will contain **two (2)** zip files.\n",
    "\n",
    "Extract only these two files:\n",
    "\n",
    "- train.zip\n",
    "- test1.zip\n",
    "\n",
    "Extract both of them in the **data/module_1** folder inside the root directory of the repo for the following to work!\n",
    "\n",
    "After extracting everything, this was my folder structure:\n",
    "\n",
    "<pre>\n",
    "<b>module_1</b>\n",
    "|__ <b>train</b>\n",
    "    |______ <b>cats</b>: [cat.0.jpg, cat.1.jpg, cat.2.jpg ...]\n",
    "    |______ <b>dogs</b>: [dog.0.jpg, dog.1.jpg, dog.2.jpg ...]\n",
    "|__ <b>test1</b>\n",
    "    |______ <b>cats</b>: [cat.2000.jpg, cat.2001.jpg, cat.2002.jpg ...]\n",
    "    |______ <b>dogs</b>: [dog.2000.jpg, dog.2001.jpg, dog.2002.jpg ...]\n",
    "</pre>\n",
    "\n",
    "If everything is okay with this step, let's go and build the first part of our network, the InceptionBlock.\n"
   ]
  },
  {
   "cell_type": "code",
   "execution_count": 2,
   "metadata": {},
   "outputs": [],
   "source": [
    "# Dataset paths setup - used later in the code. You don't have to change anything here\n",
    "REPO_DIR = Path(os.getcwd()).parent\n",
    "\n",
    "# Note: Please put the data into the data folder in the root of the repo for the following to work!\n",
    "train_dir = REPO_DIR / \"data/module_1/train\"\n",
    "validation_dir = REPO_DIR / \"data/module_1/test1\""
   ]
  },
  {
   "cell_type": "markdown",
   "metadata": {},
   "source": [
    "![Inception block](https://cdn.analyticsvidhya.com/wp-content/uploads/2018/10/Screenshot-from-2018-10-17-11-14-10.png)\n",
    "\n",
    "<center>Image taken from <a href=\"https://www.analyticsvidhya.com/blog/2018/10/understanding-inception-network-from-scratch/\">here</a></center>\n",
    "\n",
    "<br><br>\n",
    "As seen on the image above, the Inception Block has 4 different parts which analyze an image (or input to the block) in different ways.\n",
    "\n",
    "Instead of having only one size representation of a layer input, Inception Block allows us to extract features from different image sizes, make our network more robust and ultimately more accurate.\n",
    "\n",
    "Okay, but what is the architecture?\n",
    "It's straightforward to build.\n",
    "\n",
    "#### 1st part\n",
    "\n",
    "- One conv layer with a kernel size of 1, ReLu activation\n",
    "\n",
    "#### 2nd part\n",
    "\n",
    "- First, conv layer with a kernel size of 1, ReLu activation\n",
    "- Second, conv layer with a kernel size of 3, ReLu activation and padding same\n",
    "\n",
    "#### 3rd part\n",
    "\n",
    "- First, conv layer with a kernel size of 1, ReLu activation\n",
    "- Second, conv layer with a kernel size of 5, ReLu activation and padding same\n",
    "\n",
    "#### 4rt part\n",
    "\n",
    "- First, MaxPool layer with a pool size of 3\n",
    "- Second, conv layer with a kernel size of 1, ReLu activation\n",
    "\n",
    "#### 5th part\n",
    "\n",
    "- Return the concatenation of all 4 channels using tf.concat\n",
    "\n",
    "Links to learn more about Inception blocks:\n",
    "\n",
    "Reading:\n",
    "\n",
    "- https://paperswithcode.com/method/inception-module\n",
    "- https://deepai.org/machine-learning-glossary-and-terms/inception-module\n"
   ]
  },
  {
   "cell_type": "code",
   "execution_count": 3,
   "metadata": {},
   "outputs": [
    {
     "data": {
      "text/html": [
       "\n",
       "        <iframe\n",
       "            width=\"1000\"\n",
       "            height=\"500\"\n",
       "            src=\"https://www.youtube.com/embed/C86ZXvgpejM\"\n",
       "            frameborder=\"0\"\n",
       "            allowfullscreen\n",
       "            \n",
       "        ></iframe>\n",
       "        "
      ],
      "text/plain": [
       "<IPython.lib.display.IFrame at 0x121210d60>"
      ]
     },
     "execution_count": 3,
     "metadata": {},
     "output_type": "execute_result"
    }
   ],
   "source": [
    "IFrame(\"https://www.youtube.com/embed/C86ZXvgpejM\", 1000, 500)"
   ]
  },
  {
   "cell_type": "markdown",
   "id": "290c3da6",
   "metadata": {},
   "source": [
    "**In some cases Ipython widgets do not work!**\n",
    "\n",
    "If this is the case here is the like for YouTube video from cell above: https://www.youtube.com/watch?v=C86ZXvgpejM\n"
   ]
  },
  {
   "cell_type": "code",
   "execution_count": 4,
   "id": "e9659148",
   "metadata": {},
   "outputs": [
    {
     "data": {
      "text/html": [
       "\n",
       "        <iframe\n",
       "            width=\"1000\"\n",
       "            height=\"500\"\n",
       "            src=\"https://www.youtube.com/embed/KfV8CJh7hE0\"\n",
       "            frameborder=\"0\"\n",
       "            allowfullscreen\n",
       "            \n",
       "        ></iframe>\n",
       "        "
      ],
      "text/plain": [
       "<IPython.lib.display.IFrame at 0x121210220>"
      ]
     },
     "execution_count": 4,
     "metadata": {},
     "output_type": "execute_result"
    }
   ],
   "source": [
    "IFrame(\"https://www.youtube.com/embed/KfV8CJh7hE0\", 1000, 500)"
   ]
  },
  {
   "cell_type": "markdown",
   "metadata": {},
   "source": [
    "**In some cases Ipython widgets do not work!**\n",
    "\n",
    "If this is the case here is the like for YouTube video from cell above: https://www.youtube.com/embed/KfV8CJh7hE0\n"
   ]
  },
  {
   "cell_type": "code",
   "execution_count": 5,
   "metadata": {
    "scrolled": false
   },
   "outputs": [
    {
     "data": {
      "text/html": [
       "\n",
       "        <iframe\n",
       "            width=\"1000\"\n",
       "            height=\"500\"\n",
       "            src=\"https://www.youtube.com/embed/STTrebkhnIk\"\n",
       "            frameborder=\"0\"\n",
       "            allowfullscreen\n",
       "            \n",
       "        ></iframe>\n",
       "        "
      ],
      "text/plain": [
       "<IPython.lib.display.IFrame at 0x121210580>"
      ]
     },
     "execution_count": 5,
     "metadata": {},
     "output_type": "execute_result"
    }
   ],
   "source": [
    "IFrame(\"https://www.youtube.com/embed/STTrebkhnIk\", 1000, 500)"
   ]
  },
  {
   "cell_type": "markdown",
   "metadata": {},
   "source": [
    "**In some cases Ipython widgets do not work!**\n",
    "\n",
    "If this is the case here is the like for YouTube video from cell above: https://www.youtube.com/embed/STTrebkhnIk\n"
   ]
  },
  {
   "cell_type": "markdown",
   "metadata": {},
   "source": [
    "## Exercise 1:\n",
    "\n",
    "Using the explanations and resources provided, complete the **InceptionBlock** function.\n"
   ]
  },
  {
   "cell_type": "code",
   "execution_count": 6,
   "metadata": {},
   "outputs": [],
   "source": [
    "from tensorflow.keras import layers\n",
    "\n",
    "def InceptionBlock(inputs, filters_1, filters_2, filters_3, filters_4):\n",
    "    \"\"\"\n",
    "    Implement Inception block here\n",
    "\n",
    "    Args:\n",
    "        Inputs - previous layer from the network\n",
    "        filters_1 :int: - Number of filters used in the Part 1 of the Inception block. E.g. 32\n",
    "        filters_2 :Tuple: - Number of filters used for the two layers of the Part 2 E.g. (32, 32)\n",
    "        filters_3 :Tuple: - Nmber of filters used for the two layers of the Part 3 E.g. (32, 32)\n",
    "        filters_4 :int: - Number of filters used in the Part 4 of the Inception block E.g. 32\n",
    "\n",
    "    Return:\n",
    "        tf.concat - of all 4 parts\n",
    "    \"\"\"\n",
    "    # YOUR CODE HERE\n",
    "\n",
    "    # 1x1 conv\n",
    "    part1 = Conv2D(filters_1, (1, 1), activation=\"relu\", padding=\"same\")(inputs)\n",
    "    # 1x1 conv, 3x3 conv\n",
    "    part2 = Conv2D(filters_2[0], (1, 1), activation=\"relu\",padding=\"same\")(inputs)\n",
    "    part2 = Conv2D(filters_2[1], (3, 3),  activation=\"relu\",padding=\"same\")(part2)\n",
    "    # 1x1 conv, 5x5 conv\n",
    "    part3 = Conv2D(filters_3[0], (1, 1), activation=\"relu\", padding=\"same\")(inputs)\n",
    "    part3 = Conv2D(filters_3[1], (5, 5),  activation=\"relu\", padding=\"same\")(part2)\n",
    "\n",
    "    # max pool\n",
    "    part4 = MaxPool2D(pool_size=(3, 3), strides=1, padding=\"same\")(inputs)\n",
    "    part4 = Conv2D(filters_4, (1, 1), activation=\"relu\", padding=\"same\")(part4)\n",
    "\n",
    "    return layers.Concatenate(axis=-1)([part1, part2, part3, part4])\n",
    "    # return tf.concat([part1, part2, part3, part4], axis=-1)\n",
    "\n",
    "    # raise NotImplementedError"
   ]
  },
  {
   "cell_type": "code",
   "execution_count": 7,
   "id": "9ea835fe",
   "metadata": {},
   "outputs": [
    {
     "name": "stderr",
     "output_type": "stream",
     "text": [
      "2024-08-13 15:54:47.821047: I metal_plugin/src/device/metal_device.cc:1154] Metal device set to: Apple M1 Max\n",
      "2024-08-13 15:54:47.821066: I metal_plugin/src/device/metal_device.cc:296] systemMemory: 32.00 GB\n",
      "2024-08-13 15:54:47.821073: I metal_plugin/src/device/metal_device.cc:313] maxCacheSize: 10.67 GB\n",
      "2024-08-13 15:54:47.821086: I tensorflow/core/common_runtime/pluggable_device/pluggable_device_factory.cc:305] Could not identify NUMA node of platform GPU ID 0, defaulting to 0. Your kernel may not have been built with NUMA support.\n",
      "2024-08-13 15:54:47.821096: I tensorflow/core/common_runtime/pluggable_device/pluggable_device_factory.cc:271] Created TensorFlow device (/job:localhost/replica:0/task:0/device:GPU:0 with 0 MB memory) -> physical PluggableDevice (device: 0, name: METAL, pci bus id: <undefined>)\n"
     ]
    }
   ],
   "source": [
    "aaa = InceptionBlock(Input(shape = (224, 224, 3)), 10, (10, 10), (10, 10), 10).shape[1:]"
   ]
  },
  {
   "cell_type": "code",
   "execution_count": 8,
   "id": "ad113609",
   "metadata": {},
   "outputs": [
    {
     "data": {
      "text/plain": [
       "[224, 224, 40]"
      ]
     },
     "execution_count": 8,
     "metadata": {},
     "output_type": "execute_result"
    }
   ],
   "source": [
    "list(aaa)"
   ]
  },
  {
   "cell_type": "code",
   "execution_count": 9,
   "metadata": {},
   "outputs": [
    {
     "data": {
      "text/html": [
       "<text style=color:green>IMPLEMENTATION IS CORRECT! GOOD JOB!</text>"
      ],
      "text/plain": [
       "<IPython.core.display.HTML object>"
      ]
     },
     "execution_count": 9,
     "metadata": {},
     "output_type": "execute_result"
    }
   ],
   "source": [
    "# RUN THIS CELL TO CHECK IF YOUR SOLUTION IS CORRECT\n",
    "TEST_INCEPTIONBLOCK(InceptionBlock)"
   ]
  },
  {
   "cell_type": "markdown",
   "metadata": {},
   "source": [
    "# GoogleLeNet\n",
    "\n",
    "### Implementing GoogLeNet from scratch\n",
    "\n",
    "Like all big and famous architectures, GoogLeNet was created for the ImageNet competition. This architecture was later used to develop SOTA Face recognition applications, Reverse Image search, and many other Google products.\n",
    "\n",
    "What is so special about this model?\n",
    "\n",
    "GoogLeNet was created to solve the overfitting problem of big architectures. This was achieved by using Inception modules (layers) instead of the regular ones. Besides this _trick_, the authors have added two **mini-networks** in the middle of the model. These mini-networks are called Auxiliary classifiers.\n",
    "\n",
    "Read this -> https://medium.com/analytics-vidhya/cnns-architectures-lenet-alexnet-vgg-googlenet-resnet-and-more-666091488df5\n",
    "\n",
    "### Auxiliary classifier\n",
    "\n",
    "Auxiliary classifiers are small networks used ONLY in the TRAINING time to prevent vanishing gradient problems for more extensive networks.\n",
    "\n",
    "These small networks have the same output layer as the primary (big) model, with the Softmax/Sigmoid function. Calculating loss from these points helps preserver gradients in lower layers in the model and update the training time better.\n",
    "\n",
    "Note: The number of outputs depends on the number of classes. Our task here is cats vs. dogs. Since this is the binary classification, we will use Sigmoid instead of Softmax with only 1 (one) neuron as the output.\n",
    "\n",
    "While this is awesome for the training process, it is useless for the inference time, so we would only keep the main model in the production.\n",
    "\n",
    "Links to learn more about Auxiliary classifiers:\n",
    "\n",
    "- https://towardsdatascience.com/deep-learning-googlenet-explained-de8861c82765\n",
    "\n",
    "![Auxiliary classifier](https://miro.medium.com/max/550/1*htr2D6tKh3JMS7Acy4BDTw.png)\n",
    "\n",
    "<center>Image taken from <a href=\"https://towardsdatascience.com/deep-learning-googlenet-explained-de8861c82765\">here</a></center>\n",
    "\n",
    "<br><br>\n",
    "\n",
    "The architecture of the Auxiliary Classifier is pretty simple.\n",
    "\n",
    "- Start with AveragePooling with a pool size of 5x5 and strides of 3\n",
    "- Put that through Conv layer with 128 feature maps, kernel size of 1, padding same, and activation relu\n",
    "- Flatten the output of the Conv layer\n",
    "- Use Dense layer with activation relu and 1024 units\n",
    "- Add dropout layer of 0.7 or 70% drop\n",
    "- Complete it with a Dense (output) layer with 1 unit for binary classification or with the same number as the number of classes for multi-class classification. (Sigmoid or Softmax)\n",
    "\n",
    "### Exercise 2 Complete the Auxiliary Classifier function\n",
    "\n",
    "Using the explanation and links provided, complete the _AuxiliaryClassifier_ function and run tests to check if your implementation is correct.\n"
   ]
  },
  {
   "cell_type": "code",
   "execution_count": 10,
   "metadata": {},
   "outputs": [],
   "source": [
    "def AuxilaryClassifier(X):\n",
    "    \"\"\"\n",
    "    Implement Inception block here\n",
    "\n",
    "    Args:\n",
    "        X - previous layer from the network\n",
    "\n",
    "    Return:\n",
    "        Last layer of the Auxilary Classifier (Softmax/Sigmoid)\n",
    "    \"\"\"\n",
    "    # YOUR CODE HERE\n",
    "\n",
    "    raise NotImplementedError"
   ]
  },
  {
   "cell_type": "code",
   "execution_count": 11,
   "metadata": {},
   "outputs": [
    {
     "ename": "NotImplementedError",
     "evalue": "",
     "output_type": "error",
     "traceback": [
      "\u001b[0;31m---------------------------------------------------------------------------\u001b[0m",
      "\u001b[0;31mNotImplementedError\u001b[0m                       Traceback (most recent call last)",
      "Cell \u001b[0;32mIn [11], line 2\u001b[0m\n\u001b[1;32m      1\u001b[0m \u001b[38;5;66;03m# RUN THIS CELL TO CHECK IF YOUR IMPLEMENTATION IS CORRECT\u001b[39;00m\n\u001b[0;32m----> 2\u001b[0m \u001b[43mTEST_AUXILARY\u001b[49m\u001b[43m(\u001b[49m\u001b[43mAuxilaryClassifier\u001b[49m\u001b[43m)\u001b[49m\n",
      "File \u001b[0;32m~/Development/dsr/Advanced-Computer-Vision/Module 1 - GoogLeNet Project/tests.py:22\u001b[0m, in \u001b[0;36mTEST_AUXILARY\u001b[0;34m(AuxilaryClassifier)\u001b[0m\n\u001b[1;32m     20\u001b[0m \u001b[38;5;28;01mdef\u001b[39;00m \u001b[38;5;21mTEST_AUXILARY\u001b[39m(AuxilaryClassifier):\n\u001b[1;32m     21\u001b[0m     inputs \u001b[38;5;241m=\u001b[39m Input(shape \u001b[38;5;241m=\u001b[39m (\u001b[38;5;241m10\u001b[39m, \u001b[38;5;241m10\u001b[39m, \u001b[38;5;241m1\u001b[39m))\n\u001b[0;32m---> 22\u001b[0m     aux \u001b[38;5;241m=\u001b[39m \u001b[43mAuxilaryClassifier\u001b[49m\u001b[43m(\u001b[49m\u001b[43minputs\u001b[49m\u001b[43m)\u001b[49m\n\u001b[1;32m     23\u001b[0m     model \u001b[38;5;241m=\u001b[39m Model(inputs\u001b[38;5;241m=\u001b[39minputs, outputs\u001b[38;5;241m=\u001b[39maux)\n\u001b[1;32m     24\u001b[0m     layers \u001b[38;5;241m=\u001b[39m model\u001b[38;5;241m.\u001b[39mlayers\n",
      "Cell \u001b[0;32mIn [10], line 13\u001b[0m, in \u001b[0;36mAuxilaryClassifier\u001b[0;34m(X)\u001b[0m\n\u001b[1;32m      2\u001b[0m \u001b[38;5;124;03m\"\"\"\u001b[39;00m\n\u001b[1;32m      3\u001b[0m \u001b[38;5;124;03mImplement Inception block here\u001b[39;00m\n\u001b[1;32m      4\u001b[0m \n\u001b[0;32m   (...)\u001b[0m\n\u001b[1;32m      9\u001b[0m \u001b[38;5;124;03m    Last layer of the Auxilary Classifier (Softmax/Sigmoid)\u001b[39;00m\n\u001b[1;32m     10\u001b[0m \u001b[38;5;124;03m\"\"\"\u001b[39;00m\n\u001b[1;32m     11\u001b[0m \u001b[38;5;66;03m# YOUR CODE HERE\u001b[39;00m\n\u001b[0;32m---> 13\u001b[0m \u001b[38;5;28;01mraise\u001b[39;00m \u001b[38;5;167;01mNotImplementedError\u001b[39;00m\n",
      "\u001b[0;31mNotImplementedError\u001b[0m: "
     ]
    }
   ],
   "source": [
    "# RUN THIS CELL TO CHECK IF YOUR IMPLEMENTATION IS CORRECT\n",
    "TEST_AUXILARY(AuxilaryClassifier)"
   ]
  },
  {
   "cell_type": "markdown",
   "metadata": {},
   "source": [
    "## GoogLeNet architecture\n",
    "\n",
    "![GoogleNet model](https://paperswithcode.com/media/methods/Screen_Shot_2020-06-22_at_3.28.59_PM.png)\n",
    "\n",
    "<center>Image taken from <a href=\"https://paperswithcode.com\">here</a></center>\n",
    "<br><br>\n",
    "Now that we have the most crucial components of the GoogleNet model (**InceptionBlock** and **AuxiliaryClassifier**), let's walk through the whole architecture and start by implementing it inside the **GoogLeNet function**.\n",
    "\n",
    "GoogLeNet implementation guide:\n",
    "\n",
    "1. Start by defining the Input layer. In the original paper, the model accepted (224, 224, 3) size, so let's keep that.\n",
    "2. Define the first part of the model that goes:\n",
    "   - Conv with 64 feature maps, Kernel size of 7 and strides of 2, padding=valid\n",
    "   - Followed by MaxPooling layer with pooling size of 3 and strides 2, padding = same\n",
    "   - Conv with 64 feature maps with a kernel size of 1\n",
    "   - Conv with 192 feature maps, kernel size of 3, and padding is the same\n",
    "   - Finish this part with MaxPooling with a kernel size of 3 and strides of 2\n",
    "3. This part is given to you as a reference in the GoogLeNet function\n",
    "4. Define the first Auxiliary Classifier\n",
    "5. Followed by 3 Inception Blocks\n",
    "   - 1st block: 160, (112, 224), (24, 64), 64\n",
    "   - 2nd block: 128, (128, 256), (24, 64), 64\n",
    "   - 3rd block: 112, (144, 288), (32, 64), 64\n",
    "6. Define the second Auxiliary Classifier\n",
    "7. Define the last part of the network\n",
    "\n",
    "   - Inception block with config: 256, (160, 320), (32, 128), 128\n",
    "   - MaxPooling layer with pooling size of 3, strides are 2, and padding is same\n",
    "   - Inception block: 256, (160, 320), (32, 128), 128\n",
    "   - Inception block: 384, (192, 384), (48, 128), 128\n",
    "   - Global Average pooling layer\n",
    "   - Complete the network with Dense layer with the number of units 1 (Dogs vs. cats), activation sigmoid, and name=\"output\"\n",
    "\n",
    "8. Define the model using keras Model, where inputs will be inputs defined from the 1st step, and the outputs will be a list of 3 things - Last layer of the model, auxiliary classifier 1 outputs, and auxiliary classifier 2 outputs\n",
    "\n",
    "Learn more about GoogLeNet:\n",
    "\n",
    "- https://towardsdatascience.com/deep-learning-googlenet-explained-de8861c82765\n",
    "- https://www.geeksforgeeks.org/understanding-googlenet-model-cnn-architecture/\n"
   ]
  },
  {
   "cell_type": "code",
   "execution_count": null,
   "metadata": {},
   "outputs": [],
   "source": [
    "def GoogLeNet():\n",
    "\n",
    "    # input layer\n",
    "\n",
    "    # First part of the network\n",
    "\n",
    "    # THIS PART IS GIVEN TO YOU AS A REFERENCE\n",
    "    X = InceptionBlock(X, 64, (96, 128), (16, 32), 32)\n",
    "    X = InceptionBlock(X, 128, (128, 192), (32, 96), 64)\n",
    "    X = MaxPool2D(pool_size=3, strides=2)(X)\n",
    "    X = InceptionBlock(X, 192, (96, 208), (16, 48), 64)\n",
    "\n",
    "    # 1st Aux classifier\n",
    "\n",
    "    # Inception blocks\n",
    "\n",
    "    # 2nd aux classifier\n",
    "\n",
    "    # Last part of the network\n",
    "\n",
    "    # Define the model\n",
    "\n",
    "    return model"
   ]
  },
  {
   "cell_type": "markdown",
   "metadata": {},
   "source": [
    "### Let's use your completed function GoogLeNet() and defined the model\n"
   ]
  },
  {
   "cell_type": "code",
   "execution_count": null,
   "metadata": {},
   "outputs": [],
   "source": [
    "model = GoogLeNet()"
   ]
  },
  {
   "cell_type": "code",
   "execution_count": null,
   "metadata": {
    "scrolled": false
   },
   "outputs": [
    {
     "data": {
      "text/html": [
       "<text style=color:green>IMPLEMENTATION IS CORRECT! GOOD JOB!</text>"
      ],
      "text/plain": [
       "<IPython.core.display.HTML object>"
      ]
     },
     "execution_count": 12,
     "metadata": {},
     "output_type": "execute_result"
    }
   ],
   "source": [
    "# RUN THIS CELL TO CHECK IF YOUR IMPLEMENTATION OF GOOGLENET IS CORRECT\n",
    "TEST_GOOGLENET(model)"
   ]
  },
  {
   "cell_type": "markdown",
   "metadata": {},
   "source": [
    "### Compile the model\n"
   ]
  },
  {
   "cell_type": "code",
   "execution_count": null,
   "metadata": {},
   "outputs": [],
   "source": [
    "model.compile(loss=['binary_crossentropy', 'binary_crossentropy', 'binary_crossentropy'],\n",
    "              loss_weights=[1, 0.3, 0.3],\n",
    "              optimizer=RMSprop(lr=0.001),\n",
    "              metrics=['acc'])"
   ]
  },
  {
   "cell_type": "markdown",
   "metadata": {},
   "source": [
    "### Setting up config (Hyperparams) for the model\n"
   ]
  },
  {
   "cell_type": "code",
   "execution_count": null,
   "metadata": {},
   "outputs": [],
   "source": [
    "IMG_SIZE=(224, 224) # <- DO NOT CHANGE\n",
    "\n",
    "# Experiment with batch_size and epochs\n",
    "batch_size=32\n",
    "epochs=15"
   ]
  },
  {
   "cell_type": "markdown",
   "metadata": {},
   "source": [
    "## Data loading and preprocessing\n",
    "\n",
    "To help ourselves in loading and processing images, let's use **ImageDataGenerator** provided as a part of the TensorFlow library.\n",
    "\n",
    "To learn more about data generators and how to use them, read this blog:\n",
    "\n",
    "- https://blog.keras.io/building-powerful-image-classification-models-using-very-little-data.html\n"
   ]
  },
  {
   "cell_type": "code",
   "execution_count": null,
   "metadata": {},
   "outputs": [],
   "source": [
    "from tensorflow.keras.preprocessing.image import ImageDataGenerator\n",
    "\n",
    "# For this project we will use only scaling as the image preprocessing step (All pixels between 0-1)\n",
    "train_datagen = ImageDataGenerator(rescale=1./255)\n",
    "val_datagen = ImageDataGenerator(rescale=1./255)"
   ]
  },
  {
   "cell_type": "markdown",
   "metadata": {},
   "source": [
    "### Running Data Generators over the downloaded dataset\n",
    "\n",
    "Using ImageDataGenerators allows us to load images in many ways. In our case, we have all images in the folder called **data**, and each class is its folder _[\"cat,\" \"dog\"]_. This is the perfect setup for the function called **flow_from_directory**!\n",
    "\n",
    "This function takes data from a specified folder and automatically detects the number of images, number of classes and loads them in the memory when the training starts. When defining the generator, you can specify a standardized image size to resize all loaded images to the specified size.\n",
    "\n",
    "Here is the link to learn more about _flow_from_directory_:\n",
    "\n",
    "- https://vijayabhaskar96.medium.com/tutorial-image-classification-with-keras-flow-from-directory-and-generators-95f75ebe5720\n"
   ]
  },
  {
   "cell_type": "code",
   "execution_count": null,
   "metadata": {},
   "outputs": [],
   "source": [
    "# Flow training images in batches of 20 using train_datagen generator\n",
    "train_generator = train_datagen.flow_from_directory(\n",
    "        train_dir,  # This is the source directory for training images\n",
    "        target_size=IMG_SIZE,  # All images will be resized to 150x150\n",
    "        batch_size=batch_size,\n",
    "        # Since we use binary_crossentropy loss, we need binary labels\n",
    "        class_mode='binary')\n",
    "\n",
    "# Flow validation images in batches of 20 using val_datagen generator\n",
    "validation_generator = val_datagen.flow_from_directory(\n",
    "        validation_dir,\n",
    "        target_size=IMG_SIZE,\n",
    "        batch_size=batch_size,\n",
    "        class_mode='binary')"
   ]
  },
  {
   "cell_type": "markdown",
   "metadata": {},
   "source": [
    "### Exercise 4 Train the _model_ using all the parameters, **train_generator** and **validation_generator**\n",
    "\n",
    "HINT: Here is the post that explains how to train a model using data generators: https://www.pyimagesearch.com/2018/12/24/how-to-use-keras-fit-and-fit_generator-a-hands-on-tutorial/\n"
   ]
  },
  {
   "cell_type": "code",
   "execution_count": null,
   "metadata": {},
   "outputs": [],
   "source": [
    "# YOUR CODE HERE"
   ]
  },
  {
   "cell_type": "markdown",
   "metadata": {},
   "source": [
    "### Using trained model to make predictions\n"
   ]
  },
  {
   "cell_type": "code",
   "execution_count": null,
   "metadata": {},
   "outputs": [],
   "source": [
    "predictions = np.where(model.predict(validation_generator)[0] < 0.5, 0, 1)"
   ]
  }
 ],
 "metadata": {
  "kernelspec": {
   "display_name": "Python 3",
   "language": "python",
   "name": "python3"
  },
  "language_info": {
   "codemirror_mode": {
    "name": "ipython",
    "version": 3
   },
   "file_extension": ".py",
   "mimetype": "text/x-python",
   "name": "python",
   "nbconvert_exporter": "python",
   "pygments_lexer": "ipython3",
   "version": "3.9.15"
  }
 },
 "nbformat": 4,
 "nbformat_minor": 5
}
